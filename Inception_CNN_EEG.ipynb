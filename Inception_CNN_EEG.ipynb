{
  "cells": [
    {
      "cell_type": "code",
      "execution_count": 1,
      "metadata": {},
      "outputs": [
        {
          "name": "stdout",
          "output_type": "stream",
          "text": [
            "There are 500 patients\n",
            "There are 23 seconds per patient\n",
            "There are 1 versions\n",
            "X shape:  (11500, 175)\n",
            "y shape:  (11500,)\n"
          ]
        },
        {
          "data": {
            "text/html": [
              "<div>\n",
              "<style scoped>\n",
              "    .dataframe tbody tr th:only-of-type {\n",
              "        vertical-align: middle;\n",
              "    }\n",
              "\n",
              "    .dataframe tbody tr th {\n",
              "        vertical-align: top;\n",
              "    }\n",
              "\n",
              "    .dataframe thead th {\n",
              "        text-align: right;\n",
              "    }\n",
              "</style>\n",
              "<table border=\"1\" class=\"dataframe\">\n",
              "  <thead>\n",
              "    <tr style=\"text-align: right;\">\n",
              "      <th></th>\n",
              "      <th>id</th>\n",
              "      <th>pid</th>\n",
              "      <th>second_no</th>\n",
              "      <th>version</th>\n",
              "      <th>X1</th>\n",
              "      <th>X2</th>\n",
              "      <th>X3</th>\n",
              "      <th>X4</th>\n",
              "      <th>X5</th>\n",
              "      <th>X6</th>\n",
              "      <th>...</th>\n",
              "      <th>X170</th>\n",
              "      <th>X171</th>\n",
              "      <th>X172</th>\n",
              "      <th>X173</th>\n",
              "      <th>X174</th>\n",
              "      <th>X175</th>\n",
              "      <th>X176</th>\n",
              "      <th>X177</th>\n",
              "      <th>X178</th>\n",
              "      <th>y</th>\n",
              "    </tr>\n",
              "  </thead>\n",
              "  <tbody>\n",
              "    <tr>\n",
              "      <th>0</th>\n",
              "      <td>X21.V1.791</td>\n",
              "      <td>791</td>\n",
              "      <td>21</td>\n",
              "      <td>1</td>\n",
              "      <td>135</td>\n",
              "      <td>190</td>\n",
              "      <td>229</td>\n",
              "      <td>223</td>\n",
              "      <td>192</td>\n",
              "      <td>125</td>\n",
              "      <td>...</td>\n",
              "      <td>-17</td>\n",
              "      <td>-15</td>\n",
              "      <td>-31</td>\n",
              "      <td>-77</td>\n",
              "      <td>-103</td>\n",
              "      <td>-127</td>\n",
              "      <td>-116</td>\n",
              "      <td>-83</td>\n",
              "      <td>-51</td>\n",
              "      <td>0</td>\n",
              "    </tr>\n",
              "    <tr>\n",
              "      <th>1</th>\n",
              "      <td>X15.V1.924</td>\n",
              "      <td>924</td>\n",
              "      <td>15</td>\n",
              "      <td>1</td>\n",
              "      <td>386</td>\n",
              "      <td>382</td>\n",
              "      <td>356</td>\n",
              "      <td>331</td>\n",
              "      <td>320</td>\n",
              "      <td>315</td>\n",
              "      <td>...</td>\n",
              "      <td>164</td>\n",
              "      <td>150</td>\n",
              "      <td>146</td>\n",
              "      <td>152</td>\n",
              "      <td>157</td>\n",
              "      <td>156</td>\n",
              "      <td>154</td>\n",
              "      <td>143</td>\n",
              "      <td>129</td>\n",
              "      <td>1</td>\n",
              "    </tr>\n",
              "    <tr>\n",
              "      <th>2</th>\n",
              "      <td>X8.V1.1</td>\n",
              "      <td>1</td>\n",
              "      <td>8</td>\n",
              "      <td>1</td>\n",
              "      <td>-32</td>\n",
              "      <td>-39</td>\n",
              "      <td>-47</td>\n",
              "      <td>-37</td>\n",
              "      <td>-32</td>\n",
              "      <td>-36</td>\n",
              "      <td>...</td>\n",
              "      <td>57</td>\n",
              "      <td>64</td>\n",
              "      <td>48</td>\n",
              "      <td>19</td>\n",
              "      <td>-12</td>\n",
              "      <td>-30</td>\n",
              "      <td>-35</td>\n",
              "      <td>-35</td>\n",
              "      <td>-36</td>\n",
              "      <td>0</td>\n",
              "    </tr>\n",
              "    <tr>\n",
              "      <th>3</th>\n",
              "      <td>X16.V1.60</td>\n",
              "      <td>60</td>\n",
              "      <td>16</td>\n",
              "      <td>1</td>\n",
              "      <td>-105</td>\n",
              "      <td>-101</td>\n",
              "      <td>-96</td>\n",
              "      <td>-92</td>\n",
              "      <td>-89</td>\n",
              "      <td>-95</td>\n",
              "      <td>...</td>\n",
              "      <td>-82</td>\n",
              "      <td>-81</td>\n",
              "      <td>-80</td>\n",
              "      <td>-77</td>\n",
              "      <td>-85</td>\n",
              "      <td>-77</td>\n",
              "      <td>-72</td>\n",
              "      <td>-69</td>\n",
              "      <td>-65</td>\n",
              "      <td>0</td>\n",
              "    </tr>\n",
              "    <tr>\n",
              "      <th>4</th>\n",
              "      <td>X20.V1.54</td>\n",
              "      <td>54</td>\n",
              "      <td>20</td>\n",
              "      <td>1</td>\n",
              "      <td>-9</td>\n",
              "      <td>-65</td>\n",
              "      <td>-98</td>\n",
              "      <td>-102</td>\n",
              "      <td>-78</td>\n",
              "      <td>-48</td>\n",
              "      <td>...</td>\n",
              "      <td>4</td>\n",
              "      <td>2</td>\n",
              "      <td>-12</td>\n",
              "      <td>-32</td>\n",
              "      <td>-41</td>\n",
              "      <td>-65</td>\n",
              "      <td>-83</td>\n",
              "      <td>-89</td>\n",
              "      <td>-73</td>\n",
              "      <td>0</td>\n",
              "    </tr>\n",
              "  </tbody>\n",
              "</table>\n",
              "<p>5 rows × 183 columns</p>\n",
              "</div>"
            ],
            "text/plain": [
              "           id  pid  second_no  version   X1   X2   X3   X4   X5   X6  ...  \\\n",
              "0  X21.V1.791  791         21        1  135  190  229  223  192  125  ...   \n",
              "1  X15.V1.924  924         15        1  386  382  356  331  320  315  ...   \n",
              "2     X8.V1.1    1          8        1  -32  -39  -47  -37  -32  -36  ...   \n",
              "3   X16.V1.60   60         16        1 -105 -101  -96  -92  -89  -95  ...   \n",
              "4   X20.V1.54   54         20        1   -9  -65  -98 -102  -78  -48  ...   \n",
              "\n",
              "   X170  X171  X172  X173  X174  X175  X176  X177  X178  y  \n",
              "0   -17   -15   -31   -77  -103  -127  -116   -83   -51  0  \n",
              "1   164   150   146   152   157   156   154   143   129  1  \n",
              "2    57    64    48    19   -12   -30   -35   -35   -36  0  \n",
              "3   -82   -81   -80   -77   -85   -77   -72   -69   -65  0  \n",
              "4     4     2   -12   -32   -41   -65   -83   -89   -73  0  \n",
              "\n",
              "[5 rows x 183 columns]"
            ]
          },
          "execution_count": 1,
          "metadata": {},
          "output_type": "execute_result"
        }
      ],
      "source": [
        "import numpy as np\n",
        "import matplotlib.pyplot as plt\n",
        "import pandas as pd\n",
        "import seaborn as sn\n",
        "\n",
        "ESR = pd.read_csv('./dataset/clinical/data_cleaned.csv')\n",
        "print (f\"There are {len(ESR['pid'].unique())} patients\")\n",
        "print (f\"There are {len(ESR['second_no'].unique())} seconds per patient\")\n",
        "print (f\"There are {len(ESR['version'].unique())} versions\") \n",
        "X = ESR.iloc[:,4:179].values\n",
        "y = ESR.iloc[:,179+3].values\n",
        "y[y>1]=0\n",
        "print(\"X shape: \", X.shape)\n",
        "print(\"y shape: \", y.shape)\n",
        "ESR.head()\n"
      ]
    },
    {
      "cell_type": "code",
      "execution_count": 2,
      "metadata": {},
      "outputs": [
        {
          "data": {
            "image/png": "[encoded data removed]",
            "text/plain": [
              "<Figure size 640x480 with 5 Axes>"
            ]
          },
          "metadata": {},
          "output_type": "display_data"
        }
      ],
      "source": [
        "plt.subplot(511)\n",
        "plt.plot(X[1,:])\n",
        "plt.title('Data Classes')\n",
        "plt.ylabel('1')\n",
        "\n",
        "plt.subplot(512)\n",
        "plt.plot(X[7,:])\n",
        "plt.ylabel('2')  # Label for the Y-axis\n",
        "\n",
        "plt.subplot(513)\n",
        "plt.plot(X[12,:])\n",
        "plt.ylabel('3')  # Label for the Y-axis\n",
        "\n",
        "plt.subplot(514)\n",
        "plt.plot(X[0,:])\n",
        "plt.ylabel('4')  # Label for the Y-axis\n",
        "\n",
        "plt.subplot(515)\n",
        "plt.plot(X[2,:])\n",
        "plt.xlabel('Samples')  # Label for the X-axis\n",
        "plt.ylabel('5')  # Label for the Y-axis\n",
        "\n",
        "plt.tight_layout()  # Adjusts the layout so labels don't overlap\n",
        "plt.show()"
      ]
    },
    {
      "cell_type": "code",
      "execution_count": 3,
      "metadata": {},
      "outputs": [],
      "source": [
        "from sklearn.model_selection import train_test_split\n",
        "\n",
        "X_train, X_remaining, y_train, y_remaining = train_test_split(X, y, test_size=0.2, random_state=42)\n",
        "X_val, X_test, y_val, y_test = train_test_split(X_remaining, y_remaining, test_size=0.5, random_state=42)\n",
        "\n",
        "# from sklearn.preprocessing import StandardScaler\n",
        "# sc = StandardScaler()\n",
        "# X_train = sc.fit_transform(X_train)\n",
        "# X_test = sc.transform(X_test)"
      ]
    },
    {
      "cell_type": "code",
      "execution_count": 4,
      "metadata": {},
      "outputs": [],
      "source": [
        "from sklearn.metrics import accuracy_score, precision_score, recall_score, f1_score, roc_auc_score, cohen_kappa_score\n",
        "\n",
        "def evaluate_classification_metrics(y_true, y_pred, y_pred_prob):\n",
        "    # Calculate accuracy\n",
        "    accuracy = accuracy_score(y_true, y_pred)\n",
        "    \n",
        "    # Calculate precision\n",
        "    precision = precision_score(y_true, y_pred)\n",
        "    \n",
        "    # Calculate recall\n",
        "    recall = recall_score(y_true, y_pred)\n",
        "    \n",
        "    # Calculate F1 score\n",
        "    f1 = f1_score(y_true, y_pred)\n",
        "    \n",
        "    # Calculate ROC-AUC score\n",
        "    roc_auc = roc_auc_score(y_true, y_pred_prob)\n",
        "    \n",
        "    # Calculate Cohen's Kappa\n",
        "    kappa = cohen_kappa_score(y_true, y_pred)\n",
        "    \n",
        "    # Print metrics\n",
        "    print(f'Accuracy: {accuracy * 100:.2f} %')\n",
        "    print(f'Precision: {precision:.2f}')\n",
        "    print(f'Recall: {recall:.2f}')\n",
        "    print(f'F1 Score: {f1:.2f}')\n",
        "    print(f'ROC-AUC: {roc_auc:.2f}')\n",
        "    print(f'Cohen\\'s Kappa: {kappa:.2f}')\n",
        "    \n",
        "    # Return metrics as a dictionary\n",
        "    return {\n",
        "        'accuracy': accuracy,\n",
        "        'precision': precision,\n",
        "        'recall': recall,\n",
        "        'f1_score': f1,\n",
        "        'roc_auc': roc_auc,\n",
        "        'kappa': kappa\n",
        "    }"
      ]
    },
    {
      "cell_type": "code",
      "execution_count": 7,
      "metadata": {
        "colab": {
          "base_uri": "https://localhost:8080/",
          "height": 565
        },
        "id": "8nZPczcStB3L",
        "outputId": "eeaffa5b-6021-4d8f-e8df-c079ff222018"
      },
      "outputs": [
        {
          "data": {
            "text/html": [
              "<pre style=\"white-space:pre;overflow-x:auto;line-height:normal;font-family:Menlo,'DejaVu Sans Mono',consolas,'Courier New',monospace\"><span style=\"font-weight: bold\">Model: \"functional_1\"</span>\n",
              "</pre>\n"
            ],
            "text/plain": [
              "\u001b[1mModel: \"functional_1\"\u001b[0m\n"
            ]
          },
          "metadata": {},
          "output_type": "display_data"
        },
        {
          "data": {
            "text/html": [
              "<pre style=\"white-space:pre;overflow-x:auto;line-height:normal;font-family:Menlo,'DejaVu Sans Mono',consolas,'Courier New',monospace\">┏━━━━━━━━━━━━━━━━━━━━━┳━━━━━━━━━━━━━━━━━━━┳━━━━━━━━━━━━┳━━━━━━━━━━━━━━━━━━━┓\n",
              "┃<span style=\"font-weight: bold\"> Layer (type)        </span>┃<span style=\"font-weight: bold\"> Output Shape      </span>┃<span style=\"font-weight: bold\">    Param # </span>┃<span style=\"font-weight: bold\"> Connected to      </span>┃\n",
              "┡━━━━━━━━━━━━━━━━━━━━━╇━━━━━━━━━━━━━━━━━━━╇━━━━━━━━━━━━╇━━━━━━━━━━━━━━━━━━━┩\n",
              "│ input_layer_1       │ (<span style=\"color: #00d7ff; text-decoration-color: #00d7ff\">None</span>, <span style=\"color: #00af00; text-decoration-color: #00af00\">175</span>, <span style=\"color: #00af00; text-decoration-color: #00af00\">1</span>)    │          <span style=\"color: #00af00; text-decoration-color: #00af00\">0</span> │ -                 │\n",
              "│ (<span style=\"color: #0087ff; text-decoration-color: #0087ff\">InputLayer</span>)        │                   │            │                   │\n",
              "├─────────────────────┼───────────────────┼────────────┼───────────────────┤\n",
              "│ conv1d_3 (<span style=\"color: #0087ff; text-decoration-color: #0087ff\">Conv1D</span>)   │ (<span style=\"color: #00d7ff; text-decoration-color: #00d7ff\">None</span>, <span style=\"color: #00af00; text-decoration-color: #00af00\">175</span>, <span style=\"color: #00af00; text-decoration-color: #00af00\">32</span>)   │        <span style=\"color: #00af00; text-decoration-color: #00af00\">160</span> │ input_layer_1[<span style=\"color: #00af00; text-decoration-color: #00af00\">0</span>]… │\n",
              "├─────────────────────┼───────────────────┼────────────┼───────────────────┤\n",
              "│ conv1d_4 (<span style=\"color: #0087ff; text-decoration-color: #0087ff\">Conv1D</span>)   │ (<span style=\"color: #00d7ff; text-decoration-color: #00d7ff\">None</span>, <span style=\"color: #00af00; text-decoration-color: #00af00\">175</span>, <span style=\"color: #00af00; text-decoration-color: #00af00\">32</span>)   │        <span style=\"color: #00af00; text-decoration-color: #00af00\">288</span> │ input_layer_1[<span style=\"color: #00af00; text-decoration-color: #00af00\">0</span>]… │\n",
              "├─────────────────────┼───────────────────┼────────────┼───────────────────┤\n",
              "│ conv1d_5 (<span style=\"color: #0087ff; text-decoration-color: #0087ff\">Conv1D</span>)   │ (<span style=\"color: #00d7ff; text-decoration-color: #00d7ff\">None</span>, <span style=\"color: #00af00; text-decoration-color: #00af00\">175</span>, <span style=\"color: #00af00; text-decoration-color: #00af00\">32</span>)   │        <span style=\"color: #00af00; text-decoration-color: #00af00\">416</span> │ input_layer_1[<span style=\"color: #00af00; text-decoration-color: #00af00\">0</span>]… │\n",
              "├─────────────────────┼───────────────────┼────────────┼───────────────────┤\n",
              "│ concatenate_1       │ (<span style=\"color: #00d7ff; text-decoration-color: #00d7ff\">None</span>, <span style=\"color: #00af00; text-decoration-color: #00af00\">175</span>, <span style=\"color: #00af00; text-decoration-color: #00af00\">96</span>)   │          <span style=\"color: #00af00; text-decoration-color: #00af00\">0</span> │ conv1d_3[<span style=\"color: #00af00; text-decoration-color: #00af00\">0</span>][<span style=\"color: #00af00; text-decoration-color: #00af00\">0</span>],   │\n",
              "│ (<span style=\"color: #0087ff; text-decoration-color: #0087ff\">Concatenate</span>)       │                   │            │ conv1d_4[<span style=\"color: #00af00; text-decoration-color: #00af00\">0</span>][<span style=\"color: #00af00; text-decoration-color: #00af00\">0</span>],   │\n",
              "│                     │                   │            │ conv1d_5[<span style=\"color: #00af00; text-decoration-color: #00af00\">0</span>][<span style=\"color: #00af00; text-decoration-color: #00af00\">0</span>]    │\n",
              "├─────────────────────┼───────────────────┼────────────┼───────────────────┤\n",
              "│ reshape_1 (<span style=\"color: #0087ff; text-decoration-color: #0087ff\">Reshape</span>) │ (<span style=\"color: #00d7ff; text-decoration-color: #00d7ff\">None</span>, <span style=\"color: #00af00; text-decoration-color: #00af00\">175</span>, <span style=\"color: #00af00; text-decoration-color: #00af00\">96</span>,   │          <span style=\"color: #00af00; text-decoration-color: #00af00\">0</span> │ concatenate_1[<span style=\"color: #00af00; text-decoration-color: #00af00\">0</span>]… │\n",
              "│                     │ <span style=\"color: #00af00; text-decoration-color: #00af00\">1</span>)                │            │                   │\n",
              "├─────────────────────┼───────────────────┼────────────┼───────────────────┤\n",
              "│ conv2d_1 (<span style=\"color: #0087ff; text-decoration-color: #0087ff\">Conv2D</span>)   │ (<span style=\"color: #00d7ff; text-decoration-color: #00d7ff\">None</span>, <span style=\"color: #00af00; text-decoration-color: #00af00\">175</span>, <span style=\"color: #00af00; text-decoration-color: #00af00\">96</span>,   │        <span style=\"color: #00af00; text-decoration-color: #00af00\">640</span> │ reshape_1[<span style=\"color: #00af00; text-decoration-color: #00af00\">0</span>][<span style=\"color: #00af00; text-decoration-color: #00af00\">0</span>]   │\n",
              "│                     │ <span style=\"color: #00af00; text-decoration-color: #00af00\">64</span>)               │            │                   │\n",
              "├─────────────────────┼───────────────────┼────────────┼───────────────────┤\n",
              "│ batch_normalizatio… │ (<span style=\"color: #00d7ff; text-decoration-color: #00d7ff\">None</span>, <span style=\"color: #00af00; text-decoration-color: #00af00\">175</span>, <span style=\"color: #00af00; text-decoration-color: #00af00\">96</span>,   │        <span style=\"color: #00af00; text-decoration-color: #00af00\">256</span> │ conv2d_1[<span style=\"color: #00af00; text-decoration-color: #00af00\">0</span>][<span style=\"color: #00af00; text-decoration-color: #00af00\">0</span>]    │\n",
              "│ (<span style=\"color: #0087ff; text-decoration-color: #0087ff\">BatchNormalizatio…</span> │ <span style=\"color: #00af00; text-decoration-color: #00af00\">64</span>)               │            │                   │\n",
              "├─────────────────────┼───────────────────┼────────────┼───────────────────┤\n",
              "│ max_pooling2d_1     │ (<span style=\"color: #00d7ff; text-decoration-color: #00d7ff\">None</span>, <span style=\"color: #00af00; text-decoration-color: #00af00\">87</span>, <span style=\"color: #00af00; text-decoration-color: #00af00\">48</span>,    │          <span style=\"color: #00af00; text-decoration-color: #00af00\">0</span> │ batch_normalizat… │\n",
              "│ (<span style=\"color: #0087ff; text-decoration-color: #0087ff\">MaxPooling2D</span>)      │ <span style=\"color: #00af00; text-decoration-color: #00af00\">64</span>)               │            │                   │\n",
              "├─────────────────────┼───────────────────┼────────────┼───────────────────┤\n",
              "│ flatten_1 (<span style=\"color: #0087ff; text-decoration-color: #0087ff\">Flatten</span>) │ (<span style=\"color: #00d7ff; text-decoration-color: #00d7ff\">None</span>, <span style=\"color: #00af00; text-decoration-color: #00af00\">267264</span>)    │          <span style=\"color: #00af00; text-decoration-color: #00af00\">0</span> │ max_pooling2d_1[<span style=\"color: #00af00; text-decoration-color: #00af00\">…</span> │\n",
              "├─────────────────────┼───────────────────┼────────────┼───────────────────┤\n",
              "│ dense_1 (<span style=\"color: #0087ff; text-decoration-color: #0087ff\">Dense</span>)     │ (<span style=\"color: #00d7ff; text-decoration-color: #00d7ff\">None</span>, <span style=\"color: #00af00; text-decoration-color: #00af00\">2</span>)         │    <span style=\"color: #00af00; text-decoration-color: #00af00\">534,530</span> │ flatten_1[<span style=\"color: #00af00; text-decoration-color: #00af00\">0</span>][<span style=\"color: #00af00; text-decoration-color: #00af00\">0</span>]   │\n",
              "└─────────────────────┴───────────────────┴────────────┴───────────────────┘\n",
              "</pre>\n"
            ],
            "text/plain": [
              "┏━━━━━━━━━━━━━━━━━━━━━┳━━━━━━━━━━━━━━━━━━━┳━━━━━━━━━━━━┳━━━━━━━━━━━━━━━━━━━┓\n",
              "┃\u001b[1m \u001b[0m\u001b[1mLayer (type)       \u001b[0m\u001b[1m \u001b[0m┃\u001b[1m \u001b[0m\u001b[1mOutput Shape     \u001b[0m\u001b[1m \u001b[0m┃\u001b[1m \u001b[0m\u001b[1m   Param #\u001b[0m\u001b[1m \u001b[0m┃\u001b[1m \u001b[0m\u001b[1mConnected to     \u001b[0m\u001b[1m \u001b[0m┃\n",
              "┡━━━━━━━━━━━━━━━━━━━━━╇━━━━━━━━━━━━━━━━━━━╇━━━━━━━━━━━━╇━━━━━━━━━━━━━━━━━━━┩\n",
              "│ input_layer_1       │ (\u001b[38;5;45mNone\u001b[0m, \u001b[38;5;34m175\u001b[0m, \u001b[38;5;34m1\u001b[0m)    │          \u001b[38;5;34m0\u001b[0m │ -                 │\n",
              "│ (\u001b[38;5;33mInputLayer\u001b[0m)        │                   │            │                   │\n",
              "├─────────────────────┼───────────────────┼────────────┼───────────────────┤\n",
              "│ conv1d_3 (\u001b[38;5;33mConv1D\u001b[0m)   │ (\u001b[38;5;45mNone\u001b[0m, \u001b[38;5;34m175\u001b[0m, \u001b[38;5;34m32\u001b[0m)   │        \u001b[38;5;34m160\u001b[0m │ input_layer_1[\u001b[38;5;34m0\u001b[0m]… │\n",
              "├─────────────────────┼───────────────────┼────────────┼───────────────────┤\n",
              "│ conv1d_4 (\u001b[38;5;33mConv1D\u001b[0m)   │ (\u001b[38;5;45mNone\u001b[0m, \u001b[38;5;34m175\u001b[0m, \u001b[38;5;34m32\u001b[0m)   │        \u001b[38;5;34m288\u001b[0m │ input_layer_1[\u001b[38;5;34m0\u001b[0m]… │\n",
              "├─────────────────────┼───────────────────┼────────────┼───────────────────┤\n",
              "│ conv1d_5 (\u001b[38;5;33mConv1D\u001b[0m)   │ (\u001b[38;5;45mNone\u001b[0m, \u001b[38;5;34m175\u001b[0m, \u001b[38;5;34m32\u001b[0m)   │        \u001b[38;5;34m416\u001b[0m │ input_layer_1[\u001b[38;5;34m0\u001b[0m]… │\n",
              "├─────────────────────┼───────────────────┼────────────┼───────────────────┤\n",
              "│ concatenate_1       │ (\u001b[38;5;45mNone\u001b[0m, \u001b[38;5;34m175\u001b[0m, \u001b[38;5;34m96\u001b[0m)   │          \u001b[38;5;34m0\u001b[0m │ conv1d_3[\u001b[38;5;34m0\u001b[0m][\u001b[38;5;34m0\u001b[0m],   │\n",
              "│ (\u001b[38;5;33mConcatenate\u001b[0m)       │                   │            │ conv1d_4[\u001b[38;5;34m0\u001b[0m][\u001b[38;5;34m0\u001b[0m],   │\n",
              "│                     │                   │            │ conv1d_5[\u001b[38;5;34m0\u001b[0m][\u001b[38;5;34m0\u001b[0m]    │\n",
              "├─────────────────────┼───────────────────┼────────────┼───────────────────┤\n",
              "│ reshape_1 (\u001b[38;5;33mReshape\u001b[0m) │ (\u001b[38;5;45mNone\u001b[0m, \u001b[38;5;34m175\u001b[0m, \u001b[38;5;34m96\u001b[0m,   │          \u001b[38;5;34m0\u001b[0m │ concatenate_1[\u001b[38;5;34m0\u001b[0m]… │\n",
              "│                     │ \u001b[38;5;34m1\u001b[0m)                │            │                   │\n",
              "├─────────────────────┼───────────────────┼────────────┼───────────────────┤\n",
              "│ conv2d_1 (\u001b[38;5;33mConv2D\u001b[0m)   │ (\u001b[38;5;45mNone\u001b[0m, \u001b[38;5;34m175\u001b[0m, \u001b[38;5;34m96\u001b[0m,   │        \u001b[38;5;34m640\u001b[0m │ reshape_1[\u001b[38;5;34m0\u001b[0m][\u001b[38;5;34m0\u001b[0m]   │\n",
              "│                     │ \u001b[38;5;34m64\u001b[0m)               │            │                   │\n",
              "├─────────────────────┼───────────────────┼────────────┼───────────────────┤\n",
              "│ batch_normalizatio… │ (\u001b[38;5;45mNone\u001b[0m, \u001b[38;5;34m175\u001b[0m, \u001b[38;5;34m96\u001b[0m,   │        \u001b[38;5;34m256\u001b[0m │ conv2d_1[\u001b[38;5;34m0\u001b[0m][\u001b[38;5;34m0\u001b[0m]    │\n",
              "│ (\u001b[38;5;33mBatchNormalizatio…\u001b[0m │ \u001b[38;5;34m64\u001b[0m)               │            │                   │\n",
              "├─────────────────────┼───────────────────┼────────────┼───────────────────┤\n",
              "│ max_pooling2d_1     │ (\u001b[38;5;45mNone\u001b[0m, \u001b[38;5;34m87\u001b[0m, \u001b[38;5;34m48\u001b[0m,    │          \u001b[38;5;34m0\u001b[0m │ batch_normalizat… │\n",
              "│ (\u001b[38;5;33mMaxPooling2D\u001b[0m)      │ \u001b[38;5;34m64\u001b[0m)               │            │                   │\n",
              "├─────────────────────┼───────────────────┼────────────┼───────────────────┤\n",
              "│ flatten_1 (\u001b[38;5;33mFlatten\u001b[0m) │ (\u001b[38;5;45mNone\u001b[0m, \u001b[38;5;34m267264\u001b[0m)    │          \u001b[38;5;34m0\u001b[0m │ max_pooling2d_1[\u001b[38;5;34m…\u001b[0m │\n",
              "├─────────────────────┼───────────────────┼────────────┼───────────────────┤\n",
              "│ dense_1 (\u001b[38;5;33mDense\u001b[0m)     │ (\u001b[38;5;45mNone\u001b[0m, \u001b[38;5;34m2\u001b[0m)         │    \u001b[38;5;34m534,530\u001b[0m │ flatten_1[\u001b[38;5;34m0\u001b[0m][\u001b[38;5;34m0\u001b[0m]   │\n",
              "└─────────────────────┴───────────────────┴────────────┴───────────────────┘\n"
            ]
          },
          "metadata": {},
          "output_type": "display_data"
        },
        {
          "data": {
            "text/html": [
              "<pre style=\"white-space:pre;overflow-x:auto;line-height:normal;font-family:Menlo,'DejaVu Sans Mono',consolas,'Courier New',monospace\"><span style=\"font-weight: bold\"> Total params: </span><span style=\"color: #00af00; text-decoration-color: #00af00\">536,290</span> (2.05 MB)\n",
              "</pre>\n"
            ],
            "text/plain": [
              "\u001b[1m Total params: \u001b[0m\u001b[38;5;34m536,290\u001b[0m (2.05 MB)\n"
            ]
          },
          "metadata": {},
          "output_type": "display_data"
        },
        {
          "data": {
            "text/html": [
              "<pre style=\"white-space:pre;overflow-x:auto;line-height:normal;font-family:Menlo,'DejaVu Sans Mono',consolas,'Courier New',monospace\"><span style=\"font-weight: bold\"> Trainable params: </span><span style=\"color: #00af00; text-decoration-color: #00af00\">536,162</span> (2.05 MB)\n",
              "</pre>\n"
            ],
            "text/plain": [
              "\u001b[1m Trainable params: \u001b[0m\u001b[38;5;34m536,162\u001b[0m (2.05 MB)\n"
            ]
          },
          "metadata": {},
          "output_type": "display_data"
        },
        {
          "data": {
            "text/html": [
              "<pre style=\"white-space:pre;overflow-x:auto;line-height:normal;font-family:Menlo,'DejaVu Sans Mono',consolas,'Courier New',monospace\"><span style=\"font-weight: bold\"> Non-trainable params: </span><span style=\"color: #00af00; text-decoration-color: #00af00\">128</span> (512.00 B)\n",
              "</pre>\n"
            ],
            "text/plain": [
              "\u001b[1m Non-trainable params: \u001b[0m\u001b[38;5;34m128\u001b[0m (512.00 B)\n"
            ]
          },
          "metadata": {},
          "output_type": "display_data"
        }
      ],
      "source": [
        "import tensorflow as tf\n",
        "from tensorflow.keras.layers import Input, Conv1D, Conv2D, MaxPooling2D, BatchNormalization, Reshape, GlobalAveragePooling2D, Dense, Flatten\n",
        "from tensorflow.keras.models import Model\n",
        "# import wandb\n",
        "# from wandb.keras import WandbMetricsLogger, WandbModelCheckpoint, WandbEvalCallback\n",
        "\n",
        "# Initialize Weights & Biases project\n",
        "# wandb.init(project=\"EEG_CNN_Classification\", entity=\"namangarg2025\")\n",
        "\n",
        "def InceptionNucleus(input_layer, filters):\n",
        "    branches = []\n",
        "    for f in filters:\n",
        "        x = Conv1D(filters=32, kernel_size=f, padding='same', activation='relu')(input_layer)\n",
        "        branches.append(x)\n",
        "    output = tf.keras.layers.concatenate(branches, axis=-1)\n",
        "    return output\n",
        "\n",
        "def create_eeg_cnn(input_shape=(178, 1), num_classes=2):\n",
        "    inputs = Input(shape=input_shape)\n",
        "\n",
        "    # Initial 1D Convolutional Layers with Inception Nucleus\n",
        "    x = InceptionNucleus(inputs, filters=[4, 8, 12])\n",
        "\n",
        "    # Reshape for 2D Convolutions\n",
        "    x = Reshape((x.shape[1], x.shape[2], 1))(x) # (178, 96, 1) for example\n",
        "\n",
        "    # 2D Convolutional Layers\n",
        "    x = Conv2D(64, (3, 3), padding='same', activation='relu')(x)\n",
        "    x = BatchNormalization()(x)\n",
        "    x = MaxPooling2D((2, 2))(x)\n",
        "\n",
        "    # Flatten after 2D Convolutions\n",
        "    x = Flatten()(x)\n",
        "\n",
        "    # Output Layer\n",
        "    outputs = Dense(num_classes, activation='softmax')(x)\n",
        "\n",
        "    model = Model(inputs=inputs, outputs=outputs)\n",
        "    model.compile(optimizer='adam', loss='sparse_categorical_crossentropy', metrics=['accuracy'])\n",
        "    return model\n",
        "\n",
        "# Create the model\n",
        "model = create_eeg_cnn(input_shape=(175, 1), num_classes=2)\n",
        "\n",
        "# Print model summary\n",
        "model.summary()\n",
        "\n",
        "# Fit the model with W&B callback\n"
      ]
    },
    {
      "cell_type": "code",
      "execution_count": 8,
      "metadata": {
        "id": "qSKbBbXdtD_l"
      },
      "outputs": [],
      "source": [
        "model = create_eeg_cnn(input_shape=(175, 1), num_classes=2)"
      ]
    },
    {
      "cell_type": "code",
      "execution_count": 9,
      "metadata": {},
      "outputs": [
        {
          "data": {
            "text/plain": [
              "(9200, 175)"
            ]
          },
          "execution_count": 9,
          "metadata": {},
          "output_type": "execute_result"
        }
      ],
      "source": [
        "X_train.shape"
      ]
    },
    {
      "cell_type": "code",
      "execution_count": 10,
      "metadata": {},
      "outputs": [
        {
          "data": {
            "text/plain": [
              "(9200,)"
            ]
          },
          "execution_count": 10,
          "metadata": {},
          "output_type": "execute_result"
        }
      ],
      "source": [
        "y_train.shape\n"
      ]
    },
    {
      "cell_type": "code",
      "execution_count": 11,
      "metadata": {},
      "outputs": [
        {
          "name": "stdout",
          "output_type": "stream",
          "text": [
            "Epoch 1/50\n",
            "\u001b[1m288/288\u001b[0m \u001b[32m━━━━━━━━━━━━━━━━━━━━\u001b[0m\u001b[37m\u001b[0m \u001b[1m66s\u001b[0m 226ms/step - accuracy: 0.9100 - loss: 9.8763 - val_accuracy: 0.9296 - val_loss: 5.6865\n",
            "Epoch 2/50\n",
            "\u001b[1m288/288\u001b[0m \u001b[32m━━━━━━━━━━━━━━━━━━━━\u001b[0m\u001b[37m\u001b[0m \u001b[1m65s\u001b[0m 225ms/step - accuracy: 0.9472 - loss: 5.2355 - val_accuracy: 0.9209 - val_loss: 9.7862\n",
            "Epoch 3/50\n",
            "\u001b[1m288/288\u001b[0m \u001b[32m━━━━━━━━━━━━━━━━━━━━\u001b[0m\u001b[37m\u001b[0m \u001b[1m66s\u001b[0m 228ms/step - accuracy: 0.9507 - loss: 3.5641 - val_accuracy: 0.9635 - val_loss: 2.0655\n",
            "Epoch 4/50\n",
            "\u001b[1m288/288\u001b[0m \u001b[32m━━━━━━━━━━━━━━━━━━━━\u001b[0m\u001b[37m\u001b[0m \u001b[1m65s\u001b[0m 227ms/step - accuracy: 0.9669 - loss: 1.3691 - val_accuracy: 0.9643 - val_loss: 1.1784\n",
            "Epoch 5/50\n",
            "\u001b[1m288/288\u001b[0m \u001b[32m━━━━━━━━━━━━━━━━━━━━\u001b[0m\u001b[37m\u001b[0m \u001b[1m67s\u001b[0m 233ms/step - accuracy: 0.9816 - loss: 0.6498 - val_accuracy: 0.9800 - val_loss: 0.6651\n",
            "Epoch 6/50\n",
            "\u001b[1m288/288\u001b[0m \u001b[32m━━━━━━━━━━━━━━━━━━━━\u001b[0m\u001b[37m\u001b[0m \u001b[1m65s\u001b[0m 226ms/step - accuracy: 0.9843 - loss: 0.5626 - val_accuracy: 0.9548 - val_loss: 1.3627\n",
            "Epoch 7/50\n",
            "\u001b[1m288/288\u001b[0m \u001b[32m━━━━━━━━━━━━━━━━━━━━\u001b[0m\u001b[37m\u001b[0m \u001b[1m66s\u001b[0m 228ms/step - accuracy: 0.9826 - loss: 0.7571 - val_accuracy: 0.9678 - val_loss: 1.7256\n",
            "Epoch 8/50\n",
            "\u001b[1m288/288\u001b[0m \u001b[32m━━━━━━━━━━━━━━━━━━━━\u001b[0m\u001b[37m\u001b[0m \u001b[1m67s\u001b[0m 234ms/step - accuracy: 0.9865 - loss: 0.5399 - val_accuracy: 0.9730 - val_loss: 0.7223\n",
            "Epoch 9/50\n",
            "\u001b[1m288/288\u001b[0m \u001b[32m━━━━━━━━━━━━━━━━━━━━\u001b[0m\u001b[37m\u001b[0m \u001b[1m65s\u001b[0m 226ms/step - accuracy: 0.9922 - loss: 0.1917 - val_accuracy: 0.9687 - val_loss: 1.0320\n",
            "Epoch 10/50\n",
            "\u001b[1m288/288\u001b[0m \u001b[32m━━━━━━━━━━━━━━━━━━━━\u001b[0m\u001b[37m\u001b[0m \u001b[1m66s\u001b[0m 228ms/step - accuracy: 0.9910 - loss: 0.2686 - val_accuracy: 0.9757 - val_loss: 1.1662\n",
            "Epoch 11/50\n",
            "\u001b[1m288/288\u001b[0m \u001b[32m━━━━━━━━━━━━━━━━━━━━\u001b[0m\u001b[37m\u001b[0m \u001b[1m64s\u001b[0m 222ms/step - accuracy: 0.9879 - loss: 0.3643 - val_accuracy: 0.9843 - val_loss: 0.7628\n",
            "Epoch 12/50\n",
            "\u001b[1m288/288\u001b[0m \u001b[32m━━━━━━━━━━━━━━━━━━━━\u001b[0m\u001b[37m\u001b[0m \u001b[1m65s\u001b[0m 224ms/step - accuracy: 0.9878 - loss: 0.3093 - val_accuracy: 0.9791 - val_loss: 0.7071\n",
            "Epoch 13/50\n",
            "\u001b[1m288/288\u001b[0m \u001b[32m━━━━━━━━━━━━━━━━━━━━\u001b[0m\u001b[37m\u001b[0m \u001b[1m64s\u001b[0m 222ms/step - accuracy: 0.9922 - loss: 0.2162 - val_accuracy: 0.9765 - val_loss: 1.0888\n",
            "Epoch 14/50\n",
            "\u001b[1m288/288\u001b[0m \u001b[32m━━━━━━━━━━━━━━━━━━━━\u001b[0m\u001b[37m\u001b[0m \u001b[1m64s\u001b[0m 222ms/step - accuracy: 0.9914 - loss: 0.2105 - val_accuracy: 0.9774 - val_loss: 0.6930\n",
            "Epoch 15/50\n",
            "\u001b[1m288/288\u001b[0m \u001b[32m━━━━━━━━━━━━━━━━━━━━\u001b[0m\u001b[37m\u001b[0m \u001b[1m65s\u001b[0m 225ms/step - accuracy: 0.9946 - loss: 0.0996 - val_accuracy: 0.9765 - val_loss: 0.8593\n",
            "Epoch 16/50\n",
            "\u001b[1m288/288\u001b[0m \u001b[32m━━━━━━━━━━━━━━━━━━━━\u001b[0m\u001b[37m\u001b[0m \u001b[1m65s\u001b[0m 226ms/step - accuracy: 0.9965 - loss: 0.0444 - val_accuracy: 0.9609 - val_loss: 1.3889\n",
            "Epoch 17/50\n",
            "\u001b[1m288/288\u001b[0m \u001b[32m━━━━━━━━━━━━━━━━━━━━\u001b[0m\u001b[37m\u001b[0m \u001b[1m64s\u001b[0m 222ms/step - accuracy: 0.9959 - loss: 0.0864 - val_accuracy: 0.9687 - val_loss: 1.0189\n",
            "Epoch 18/50\n",
            "\u001b[1m288/288\u001b[0m \u001b[32m━━━━━━━━━━━━━━━━━━━━\u001b[0m\u001b[37m\u001b[0m \u001b[1m64s\u001b[0m 223ms/step - accuracy: 0.9931 - loss: 0.1248 - val_accuracy: 0.9826 - val_loss: 0.8341\n",
            "Epoch 19/50\n",
            "\u001b[1m288/288\u001b[0m \u001b[32m━━━━━━━━━━━━━━━━━━━━\u001b[0m\u001b[37m\u001b[0m \u001b[1m65s\u001b[0m 224ms/step - accuracy: 0.9956 - loss: 0.1146 - val_accuracy: 0.9739 - val_loss: 1.0083\n",
            "Epoch 20/50\n",
            "\u001b[1m288/288\u001b[0m \u001b[32m━━━━━━━━━━━━━━━━━━━━\u001b[0m\u001b[37m\u001b[0m \u001b[1m64s\u001b[0m 223ms/step - accuracy: 0.9886 - loss: 0.2127 - val_accuracy: 0.9652 - val_loss: 1.4275\n",
            "Epoch 21/50\n",
            "\u001b[1m288/288\u001b[0m \u001b[32m━━━━━━━━━━━━━━━━━━━━\u001b[0m\u001b[37m\u001b[0m \u001b[1m64s\u001b[0m 220ms/step - accuracy: 0.9905 - loss: 0.2278 - val_accuracy: 0.9791 - val_loss: 0.7399\n",
            "Epoch 22/50\n",
            "\u001b[1m288/288\u001b[0m \u001b[32m━━━━━━━━━━━━━━━━━━━━\u001b[0m\u001b[37m\u001b[0m \u001b[1m64s\u001b[0m 222ms/step - accuracy: 0.9970 - loss: 0.0300 - val_accuracy: 0.9748 - val_loss: 0.8549\n",
            "Epoch 23/50\n",
            "\u001b[1m288/288\u001b[0m \u001b[32m━━━━━━━━━━━━━━━━━━━━\u001b[0m\u001b[37m\u001b[0m \u001b[1m64s\u001b[0m 221ms/step - accuracy: 0.9962 - loss: 0.0809 - val_accuracy: 0.9774 - val_loss: 0.5144\n",
            "Epoch 24/50\n",
            "\u001b[1m288/288\u001b[0m \u001b[32m━━━━━━━━━━━━━━━━━━━━\u001b[0m\u001b[37m\u001b[0m \u001b[1m64s\u001b[0m 221ms/step - accuracy: 0.9931 - loss: 0.0876 - val_accuracy: 0.9783 - val_loss: 0.7033\n",
            "Epoch 25/50\n",
            "\u001b[1m288/288\u001b[0m \u001b[32m━━━━━━━━━━━━━━━━━━━━\u001b[0m\u001b[37m\u001b[0m \u001b[1m64s\u001b[0m 223ms/step - accuracy: 0.9956 - loss: 0.0582 - val_accuracy: 0.9757 - val_loss: 1.0179\n",
            "Epoch 26/50\n",
            "\u001b[1m288/288\u001b[0m \u001b[32m━━━━━━━━━━━━━━━━━━━━\u001b[0m\u001b[37m\u001b[0m \u001b[1m64s\u001b[0m 222ms/step - accuracy: 0.9988 - loss: 0.0151 - val_accuracy: 0.9452 - val_loss: 1.9847\n",
            "Epoch 27/50\n",
            "\u001b[1m288/288\u001b[0m \u001b[32m━━━━━━━━━━━━━━━━━━━━\u001b[0m\u001b[37m\u001b[0m \u001b[1m64s\u001b[0m 222ms/step - accuracy: 0.9927 - loss: 0.1307 - val_accuracy: 0.9861 - val_loss: 0.6998\n",
            "Epoch 28/50\n",
            "\u001b[1m288/288\u001b[0m \u001b[32m━━━━━━━━━━━━━━━━━━━━\u001b[0m\u001b[37m\u001b[0m \u001b[1m65s\u001b[0m 224ms/step - accuracy: 0.9923 - loss: 0.1311 - val_accuracy: 0.9809 - val_loss: 0.8246\n",
            "Epoch 29/50\n",
            "\u001b[1m288/288\u001b[0m \u001b[32m━━━━━━━━━━━━━━━━━━━━\u001b[0m\u001b[37m\u001b[0m \u001b[1m65s\u001b[0m 224ms/step - accuracy: 0.9929 - loss: 0.1176 - val_accuracy: 0.9739 - val_loss: 0.7483\n",
            "Epoch 30/50\n",
            "\u001b[1m288/288\u001b[0m \u001b[32m━━━━━━━━━━━━━━━━━━━━\u001b[0m\u001b[37m\u001b[0m \u001b[1m65s\u001b[0m 224ms/step - accuracy: 0.9943 - loss: 0.1027 - val_accuracy: 0.9757 - val_loss: 0.6150\n",
            "Epoch 31/50\n",
            "\u001b[1m288/288\u001b[0m \u001b[32m━━━━━━━━━━━━━━━━━━━━\u001b[0m\u001b[37m\u001b[0m \u001b[1m64s\u001b[0m 222ms/step - accuracy: 0.9956 - loss: 0.0849 - val_accuracy: 0.9765 - val_loss: 0.9278\n",
            "Epoch 32/50\n",
            "\u001b[1m288/288\u001b[0m \u001b[32m━━━━━━━━━━━━━━━━━━━━\u001b[0m\u001b[37m\u001b[0m \u001b[1m64s\u001b[0m 221ms/step - accuracy: 0.9969 - loss: 0.0541 - val_accuracy: 0.9774 - val_loss: 0.8781\n",
            "Epoch 33/50\n",
            "\u001b[1m288/288\u001b[0m \u001b[32m━━━━━━━━━━━━━━━━━━━━\u001b[0m\u001b[37m\u001b[0m \u001b[1m65s\u001b[0m 227ms/step - accuracy: 0.9962 - loss: 0.0575 - val_accuracy: 0.9426 - val_loss: 1.4942\n",
            "Epoch 34/50\n",
            "\u001b[1m288/288\u001b[0m \u001b[32m━━━━━━━━━━━━━━━━━━━━\u001b[0m\u001b[37m\u001b[0m \u001b[1m66s\u001b[0m 229ms/step - accuracy: 0.9953 - loss: 0.0434 - val_accuracy: 0.9661 - val_loss: 1.2778\n",
            "Epoch 35/50\n",
            "\u001b[1m288/288\u001b[0m \u001b[32m━━━━━━━━━━━━━━━━━━━━\u001b[0m\u001b[37m\u001b[0m \u001b[1m64s\u001b[0m 222ms/step - accuracy: 0.9947 - loss: 0.0908 - val_accuracy: 0.9583 - val_loss: 1.6412\n",
            "Epoch 36/50\n",
            "\u001b[1m288/288\u001b[0m \u001b[32m━━━━━━━━━━━━━━━━━━━━\u001b[0m\u001b[37m\u001b[0m \u001b[1m64s\u001b[0m 223ms/step - accuracy: 0.9921 - loss: 0.1439 - val_accuracy: 0.9748 - val_loss: 0.8749\n",
            "Epoch 37/50\n",
            "\u001b[1m288/288\u001b[0m \u001b[32m━━━━━━━━━━━━━━━━━━━━\u001b[0m\u001b[37m\u001b[0m \u001b[1m64s\u001b[0m 222ms/step - accuracy: 0.9955 - loss: 0.0600 - val_accuracy: 0.9704 - val_loss: 0.7939\n",
            "Epoch 38/50\n",
            "\u001b[1m288/288\u001b[0m \u001b[32m━━━━━━━━━━━━━━━━━━━━\u001b[0m\u001b[37m\u001b[0m \u001b[1m64s\u001b[0m 221ms/step - accuracy: 0.9963 - loss: 0.0483 - val_accuracy: 0.9739 - val_loss: 0.5868\n",
            "Epoch 39/50\n",
            "\u001b[1m288/288\u001b[0m \u001b[32m━━━━━━━━━━━━━━━━━━━━\u001b[0m\u001b[37m\u001b[0m \u001b[1m64s\u001b[0m 223ms/step - accuracy: 0.9976 - loss: 0.0200 - val_accuracy: 0.9800 - val_loss: 0.6478\n",
            "Epoch 40/50\n",
            "\u001b[1m288/288\u001b[0m \u001b[32m━━━━━━━━━━━━━━━━━━━━\u001b[0m\u001b[37m\u001b[0m \u001b[1m64s\u001b[0m 223ms/step - accuracy: 0.9969 - loss: 0.0283 - val_accuracy: 0.9783 - val_loss: 0.7649\n",
            "Epoch 41/50\n",
            "\u001b[1m288/288\u001b[0m \u001b[32m━━━━━━━━━━━━━━━━━━━━\u001b[0m\u001b[37m\u001b[0m \u001b[1m64s\u001b[0m 221ms/step - accuracy: 0.9966 - loss: 0.0291 - val_accuracy: 0.9809 - val_loss: 0.6320\n",
            "Epoch 42/50\n",
            "\u001b[1m288/288\u001b[0m \u001b[32m━━━━━━━━━━━━━━━━━━━━\u001b[0m\u001b[37m\u001b[0m \u001b[1m64s\u001b[0m 222ms/step - accuracy: 0.9972 - loss: 0.0340 - val_accuracy: 0.9696 - val_loss: 0.6853\n",
            "Epoch 43/50\n",
            "\u001b[1m288/288\u001b[0m \u001b[32m━━━━━━━━━━━━━━━━━━━━\u001b[0m\u001b[37m\u001b[0m \u001b[1m64s\u001b[0m 223ms/step - accuracy: 0.9930 - loss: 0.0728 - val_accuracy: 0.9774 - val_loss: 0.7797\n",
            "Epoch 44/50\n",
            "\u001b[1m288/288\u001b[0m \u001b[32m━━━━━━━━━━━━━━━━━━━━\u001b[0m\u001b[37m\u001b[0m \u001b[1m65s\u001b[0m 225ms/step - accuracy: 0.9869 - loss: 0.3067 - val_accuracy: 0.9739 - val_loss: 0.7690\n",
            "Epoch 45/50\n",
            "\u001b[1m288/288\u001b[0m \u001b[32m━━━━━━━━━━━━━━━━━━━━\u001b[0m\u001b[37m\u001b[0m \u001b[1m65s\u001b[0m 226ms/step - accuracy: 0.9958 - loss: 0.0960 - val_accuracy: 0.9739 - val_loss: 0.6794\n",
            "Epoch 46/50\n",
            "\u001b[1m288/288\u001b[0m \u001b[32m━━━━━━━━━━━━━━━━━━━━\u001b[0m\u001b[37m\u001b[0m \u001b[1m64s\u001b[0m 223ms/step - accuracy: 0.9987 - loss: 0.0227 - val_accuracy: 0.9739 - val_loss: 0.7325\n",
            "Epoch 47/50\n",
            "\u001b[1m288/288\u001b[0m \u001b[32m━━━━━━━━━━━━━━━━━━━━\u001b[0m\u001b[37m\u001b[0m \u001b[1m68s\u001b[0m 236ms/step - accuracy: 0.9966 - loss: 0.0726 - val_accuracy: 0.9783 - val_loss: 0.5902\n",
            "Epoch 48/50\n",
            "\u001b[1m288/288\u001b[0m \u001b[32m━━━━━━━━━━━━━━━━━━━━\u001b[0m\u001b[37m\u001b[0m \u001b[1m68s\u001b[0m 236ms/step - accuracy: 0.9951 - loss: 0.0849 - val_accuracy: 0.9791 - val_loss: 0.7446\n",
            "Epoch 49/50\n",
            "\u001b[1m288/288\u001b[0m \u001b[32m━━━━━━━━━━━━━━━━━━━━\u001b[0m\u001b[37m\u001b[0m \u001b[1m65s\u001b[0m 225ms/step - accuracy: 0.9980 - loss: 0.0190 - val_accuracy: 0.9670 - val_loss: 1.0905\n",
            "Epoch 50/50\n",
            "\u001b[1m288/288\u001b[0m \u001b[32m━━━━━━━━━━━━━━━━━━━━\u001b[0m\u001b[37m\u001b[0m \u001b[1m65s\u001b[0m 227ms/step - accuracy: 0.9973 - loss: 0.0493 - val_accuracy: 0.9748 - val_loss: 0.8284\n"
          ]
        },
        {
          "data": {
            "text/plain": [
              "<keras.src.callbacks.history.History at 0x31d2dd810>"
            ]
          },
          "execution_count": 11,
          "metadata": {},
          "output_type": "execute_result"
        }
      ],
      "source": [
        "# callbacks = [\n",
        "#     WandbMetricsLogger(),  # Logs training metrics to W&B\n",
        "#     WandbModelCheckpoint(filepath=\"model_best.keras\", save_best_only=True),  # Save the best model\n",
        "#     # WandbEvalCallback(validation_data=(X_val, y_val))  # Evaluates the model on the validation set\n",
        "# ]\n",
        "\n",
        "# Train your model\n",
        "model.fit(X_train, y_train, validation_data=(X_val, y_val), epochs=50, \n",
        "        #   callbacks=callbacks\n",
        "        )"
      ]
    },
    {
      "cell_type": "code",
      "execution_count": 17,
      "metadata": {},
      "outputs": [
        {
          "name": "stdout",
          "output_type": "stream",
          "text": [
            "\u001b[1m36/36\u001b[0m \u001b[32m━━━━━━━━━━━━━━━━━━━━\u001b[0m\u001b[37m\u001b[0m \u001b[1m1s\u001b[0m 29ms/step\n",
            "Accuracy: 97.39 %\n",
            "Precision: 0.98\n",
            "Recall: 0.90\n",
            "F1 Score: 0.94\n",
            "ROC-AUC: 0.98\n",
            "Cohen's Kappa: 0.92\n"
          ]
        }
      ],
      "source": [
        "# Predicting the Test set results\n",
        "y_pred_probs = model.predict(X_test)\n",
        "y_pred = y_pred_probs.argmax(axis=1)\n",
        "# y_pred = (y_pred_probs > 0.5)\n",
        "metrics_ann = evaluate_classification_metrics(y_test, y_pred, y_pred_probs[:,1])"
      ]
    },
    {
      "cell_type": "code",
      "execution_count": 15,
      "metadata": {},
      "outputs": [
        {
          "data": {
            "text/plain": [
              "array([[1.0000000e+00, 4.3581288e-36],\n",
              "       [1.0000000e+00, 0.0000000e+00],\n",
              "       [1.0000000e+00, 3.0347609e-33],\n",
              "       ...,\n",
              "       [1.0000000e+00, 5.4216030e-30],\n",
              "       [0.0000000e+00, 1.0000000e+00],\n",
              "       [1.0000000e+00, 3.8874314e-25]], dtype=float32)"
            ]
          },
          "execution_count": 15,
          "metadata": {},
          "output_type": "execute_result"
        }
      ],
      "source": [
        "y_pred_probs"
      ]
    },
    {
      "cell_type": "code",
      "execution_count": null,
      "metadata": {},
      "outputs": [],
      "source": []
    }
  ],
  "metadata": {
    "colab": {
      "provenance": []
    },
    "kernelspec": {
      "display_name": "Python 3",
      "name": "python3"
    },
    "language_info": {
      "codemirror_mode": {
        "name": "ipython",
        "version": 3
      },
      "file_extension": ".py",
      "mimetype": "text/x-python",
      "name": "python",
      "nbconvert_exporter": "python",
      "pygments_lexer": "ipython3",
      "version": "3.10.0"
    }
  },
  "nbformat": 4,
  "nbformat_minor": 0
}
